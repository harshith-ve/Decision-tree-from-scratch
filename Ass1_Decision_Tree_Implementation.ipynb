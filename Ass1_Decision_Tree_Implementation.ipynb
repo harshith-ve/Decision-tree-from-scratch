{
 "cells": [
  {
   "cell_type": "markdown",
   "metadata": {},
   "source": [
    "**Question 2a**"
   ]
  },
  {
   "cell_type": "markdown",
   "metadata": {},
   "source": [
    "Criteria : gini_index <br>\n",
    "Accuracy:  0.8333338888870371<br>\n",
    "class: 1<br>\n",
    "Precision:  0.8125<br>\n",
    "Recall:  0.8666666666666667<br>\n",
    "class: 0<br>\n",
    "Precision:  0.8571428571428571<br>\n",
    "Recall:  0.8<br>"
   ]
  },
  {
   "cell_type": "markdown",
   "metadata": {},
   "source": [
    "**Question 2b**"
   ]
  },
  {
   "cell_type": "markdown",
   "metadata": {},
   "source": [
    "Accuracy:  0.8333338888870371<br>\n",
    "Class: 1<br>\n",
    "  Precision: 0.8571428571428571<br>\n",
    "  Recall: 0.8<br>\n",
    "\n",
    "Class: 0<br>\n",
    "  Precision: 0.8125<br>\n",
    "  Recall: 0.8666666666666667<br>\n",
    "\n",
    "Optimal Depth: 2  "
   ]
  },
  {
   "cell_type": "markdown",
   "metadata": {},
   "source": [
    "**Question 3"
   ]
  },
  {
   "cell_type": "markdown",
   "metadata": {},
   "source": [
    "Root Mean Square Error of custom decision tree regressor: 11.53<br>\n",
    "Mean Absolute Error of custom decision tree regressor:  9.41 <br>\n",
    "\n",
    "Root Mean Square Error of sklearn decision tree regressor: 4.77<br>\n",
    "Mean Absolute Error of sklearn decision tree regressor: 3.50<br>"
   ]
  }
 ],
 "metadata": {
  "language_info": {
   "name": "python"
  }
 },
 "nbformat": 4,
 "nbformat_minor": 2
}
